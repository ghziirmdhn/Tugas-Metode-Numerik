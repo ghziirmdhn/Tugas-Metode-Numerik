{
  "nbformat": 4,
  "nbformat_minor": 0,
  "metadata": {
    "colab": {
      "provenance": [],
      "authorship_tag": "ABX9TyOxRAIZOpcHYodt2OKCBG5N",
      "include_colab_link": true
    },
    "kernelspec": {
      "name": "python3",
      "display_name": "Python 3"
    },
    "language_info": {
      "name": "python"
    }
  },
  "cells": [
    {
      "cell_type": "markdown",
      "metadata": {
        "id": "view-in-github",
        "colab_type": "text"
      },
      "source": [
        "<a href=\"https://colab.research.google.com/github/ghziirmdhn/Tugas-Metode-Numerik/blob/main/Pengaplikasian_Sistem_Persamaan_Linear.ipynb\" target=\"_parent\"><img src=\"https://colab.research.google.com/assets/colab-badge.svg\" alt=\"Open In Colab\"/></a>"
      ]
    },
    {
      "cell_type": "code",
      "execution_count": 6,
      "metadata": {
        "colab": {
          "base_uri": "https://localhost:8080/"
        },
        "id": "99-Ng-VorPxv",
        "outputId": "820efc24-bbb7-4465-c14e-3928b7054a7d"
      },
      "outputs": [
        {
          "output_type": "stream",
          "name": "stdout",
          "text": [
            "Invers dari A:\n",
            "[[-0.52941176  0.29411765  0.41176471]\n",
            " [ 1.17647059 -0.76470588 -0.47058824]\n",
            " [ 0.29411765  0.05882353 -0.11764706]]\n"
          ]
        }
      ],
      "source": [
        "import numpy as np\n",
        "\n",
        "def inverse_matrix_method(A):\n",
        "    # Periksa apakah A persegi\n",
        "    if A.shape[0] != A.shape[1]:\n",
        "        print(\"Error: Matriks input tidak persegi.\")\n",
        "        return None\n",
        "\n",
        "    # Hitung determinan\n",
        "    det = np.linalg.det(A)\n",
        "\n",
        "    # Periksa apakah determinan nol (matriks tak dapat diinvert)\n",
        "    if np.isclose(det, 0):\n",
        "        print(\"Error: Matriks singular (tidak dapat diinvert).\")\n",
        "        return None\n",
        "\n",
        "    # Hitung invers\n",
        "    A_inv = np.linalg.inv(A)\n",
        "\n",
        "    return A_inv\n",
        "\n",
        "# Contoh penggunaan:\n",
        "A = np.array([[2, 1, 3],\n",
        "              [0, -1, 4],\n",
        "              [5, 2, 1]])\n",
        "\n",
        "A_inv = inverse_matrix_method(A)\n",
        "if A_inv is not None:\n",
        "    print(\"Invers dari A:\")\n",
        "    print(A_inv)\n"
      ]
    },
    {
      "cell_type": "code",
      "source": [
        "import numpy as np\n",
        "\n",
        "def lu_decomposition_gauss(A):\n",
        "    n = A.shape[0]\n",
        "    # Inisialisasi L sebagai matriks identitas dan U sebagai salinan A\n",
        "    L = np.eye(n)\n",
        "    U = A.astype(float)  # Konversi ke float\n",
        "\n",
        "    for k in range(n-1):  # Eliminasi maju\n",
        "        for i in range(k+1, n):\n",
        "            faktor = U[i, k] / U[k, k]\n",
        "            L[i, k] = faktor\n",
        "            U[i, k:] -= faktor * U[k, k:]\n",
        "\n",
        "    return L, U\n",
        "\n",
        "# Penggunaan contoh dengan matriks baru\n",
        "A = np.array([[4, 3, 0],\n",
        "              [6, 3, 7],\n",
        "              [2, 1, 3]])\n",
        "\n",
        "L, U = lu_decomposition_gauss(A)\n",
        "print(\"L:\")\n",
        "print(L)\n",
        "print(\"U:\")\n",
        "print(U)\n"
      ],
      "metadata": {
        "colab": {
          "base_uri": "https://localhost:8080/"
        },
        "id": "svCQtDL7r3d4",
        "outputId": "794c0154-8549-4b15-ec6d-536eb988614c"
      },
      "execution_count": 7,
      "outputs": [
        {
          "output_type": "stream",
          "name": "stdout",
          "text": [
            "L:\n",
            "[[1.         0.         0.        ]\n",
            " [1.5        1.         0.        ]\n",
            " [0.5        0.33333333 1.        ]]\n",
            "U:\n",
            "[[ 4.          3.          0.        ]\n",
            " [ 0.         -1.5         7.        ]\n",
            " [ 0.          0.          0.66666667]]\n"
          ]
        }
      ]
    },
    {
      "cell_type": "code",
      "source": [
        "import numpy as np\n",
        "\n",
        "def lu_decomposition_crout(A):\n",
        "\n",
        "    n = A.shape[0]\n",
        "    L = np.zeros((n, n))\n",
        "    U = np.zeros((n, n))\n",
        "\n",
        "    for j in range(n):\n",
        "        L[j, j] = 1  # Set diagonal L ke 1\n",
        "        for i in range(j, n):\n",
        "            U[j, i] = A[j, i] - np.dot(L[j, :j], U[:j, i])\n",
        "        for i in range(j+1, n):\n",
        "            L[i, j] = (A[i, j] - np.dot(L[i, :j], U[:j, j])) / U[j, j]\n",
        "\n",
        "    return L, U\n",
        "\n",
        "# Contoh penggunaan:\n",
        "A = np.array([[4, 2, 0],\n",
        "              [1, 3, -1],\n",
        "              [5, 6, 2]])\n",
        "\n",
        "L, U = lu_decomposition_crout(A)\n",
        "print(\"L:\")\n",
        "print(L)\n",
        "print(\"U:\")\n",
        "print(U)\n"
      ],
      "metadata": {
        "colab": {
          "base_uri": "https://localhost:8080/"
        },
        "id": "rMbjs1KsslHH",
        "outputId": "a851391c-8fc7-476f-c1f8-91a58f819a00"
      },
      "execution_count": 8,
      "outputs": [
        {
          "output_type": "stream",
          "name": "stdout",
          "text": [
            "L:\n",
            "[[1.   0.   0.  ]\n",
            " [0.25 1.   0.  ]\n",
            " [1.25 1.4  1.  ]]\n",
            "U:\n",
            "[[ 4.   2.   0. ]\n",
            " [ 0.   2.5 -1. ]\n",
            " [ 0.   0.   3.4]]\n"
          ]
        }
      ]
    }
  ]
}